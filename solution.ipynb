{
 "cells": [
  {
   "cell_type": "code",
   "execution_count": null,
   "id": "69acd7c7",
   "metadata": {},
   "outputs": [],
   "source": [
    "import pandas as pd\n",
    "import numpy as np\n",
    "import torch\n",
    "import torch.nn as nn\n",
    "import matplotlib.pyplot as plt\n",
    "import os\n",
    "\n",
    "from src.proj_utils import(\n",
    "    tokenize_text,\n",
    "    create_training_examples,\n",
    "    prepare_datasets,\n",
    "    build_vocabulary\n",
    ")\n",
    "\n",
    "from src.model import LSTMLangModel, train_model\n",
    "from src.dataset import TextGenerationDataset, create_dataloaders\n",
    "from src.evaluate_transformers import evaluate_distilgpt2_rouge"
   ]
  },
  {
   "cell_type": "code",
   "execution_count": 2,
   "id": "d54f3594",
   "metadata": {},
   "outputs": [],
   "source": [
    "df = pd.read_csv('data/training.1600000.processed.noemoticon_reduced.csv', encoding='latin-1', header=None)\n",
    "df.columns = ['sentiment', 'id', 'date', 'flag', 'user', 'text']"
   ]
  },
  {
   "cell_type": "markdown",
   "id": "ff929149",
   "metadata": {},
   "source": [
    "Блок приведения к нижнему регистру, удаления ссылок, упоминаний через @, спецсимоволов.\n",
    "После - удалить лишние символы"
   ]
  },
  {
   "cell_type": "code",
   "execution_count": 3,
   "id": "057cc252",
   "metadata": {},
   "outputs": [],
   "source": [
    "df['text'] = df['text'].str.lower()\n",
    "df['text'] = df['text'].str.replace(r'http\\S+|www\\S+|@\\w+|[^\\w\\s]', '', regex=True)\n",
    "df['text'] = df['text'].str.strip()"
   ]
  },
  {
   "cell_type": "markdown",
   "id": "4e17ac41",
   "metadata": {},
   "source": [
    "Получение токенов из текста публикаций и обучающих примеров"
   ]
  },
  {
   "cell_type": "code",
   "execution_count": 4,
   "id": "1ba4719f",
   "metadata": {},
   "outputs": [],
   "source": [
    "df['tokenized'] = df['text'].apply(tokenize_text)"
   ]
  },
  {
   "cell_type": "code",
   "execution_count": 5,
   "id": "dd5b49f9",
   "metadata": {},
   "outputs": [
    {
     "name": "stdout",
     "output_type": "stream",
     "text": [
      "Используется 28 процессов для создания примеров...\n"
     ]
    }
   ],
   "source": [
    "X, Y = create_training_examples(df['tokenized'].to_list())"
   ]
  },
  {
   "cell_type": "markdown",
   "id": "cb546f71",
   "metadata": {},
   "source": [
    "Разделение на обучающую проверочную и тестовую выборки"
   ]
  },
  {
   "cell_type": "code",
   "execution_count": 6,
   "id": "5170f2dd",
   "metadata": {},
   "outputs": [],
   "source": [
    "X_train, X_val, X_test, y_train, y_val, y_test = prepare_datasets(X, Y)"
   ]
  },
  {
   "cell_type": "code",
   "execution_count": 7,
   "id": "9472dbc7",
   "metadata": {},
   "outputs": [
    {
     "name": "stdout",
     "output_type": "stream",
     "text": [
      "Размеры данных:\n",
      "Train: 96686 примеров\n",
      "Validation: 12086 примеров\n",
      "Test: 12086 примеров\n"
     ]
    }
   ],
   "source": [
    "print(f\"Размеры данных:\")\n",
    "print(f\"Train: {len(X_train)} примеров\")\n",
    "print(f\"Validation: {len(X_val)} примеров\")\n",
    "print(f\"Test: {len(X_test)} примеров\")"
   ]
  },
  {
   "cell_type": "markdown",
   "id": "9ac7e3b7",
   "metadata": {},
   "source": [
    "Создать словарь"
   ]
  },
  {
   "cell_type": "code",
   "execution_count": 8,
   "id": "5f8e8b1b",
   "metadata": {},
   "outputs": [
    {
     "name": "stdout",
     "output_type": "stream",
     "text": [
      "Размер словаря: 14307\n",
      "Примеры слов в словаре: ['<PAD>', '<UNK>', 'a', 'thats', 'bummer', 'you', 'shoulda', 'got', 'david', 'carr', 'of', 'third', 'day', 'to', 'do', 'it', 'is', 'upset', 'that', 'he']\n",
      "'this' есть в словаре: индекс 159\n",
      "'is' есть в словаре: индекс 16\n",
      "'a' есть в словаре: индекс 2\n"
     ]
    }
   ],
   "source": [
    "all_tokens = []\n",
    "for seq in X:\n",
    "    all_tokens.extend(seq)\n",
    "all_tokens.extend(Y)\n",
    "vocab = build_vocabulary([all_tokens], min_freq=1)\n",
    "vocab_size = len(vocab)\n",
    "\n",
    "print(f\"Размер словаря: {vocab_size}\")\n",
    "print(f\"Примеры слов в словаре: {list(vocab.keys())[:20]}\")\n",
    "\n",
    "\n",
    "test_words = [\"this\", \"is\", \"a\"]\n",
    "for word in test_words:\n",
    "    if word in vocab:\n",
    "        print(f\"'{word}' есть в словаре: индекс {vocab[word]}\")\n",
    "    else:\n",
    "        print(f\"'{word}' НЕТ в словаре!\")"
   ]
  },
  {
   "cell_type": "markdown",
   "id": "3c2d302f",
   "metadata": {},
   "source": [
    "Создать загрузчиков данных"
   ]
  },
  {
   "cell_type": "code",
   "execution_count": 9,
   "id": "a0671ffe",
   "metadata": {},
   "outputs": [],
   "source": [
    "batch_size = 64\n",
    "max_seq_length = 50\n",
    "\n",
    "train_loader, val_loader, test_loader = create_dataloaders(\n",
    "        X_train, y_train, X_val, y_val, X_test, y_test,\n",
    "        vocab, batch_size, max_seq_length\n",
    "    )"
   ]
  },
  {
   "cell_type": "markdown",
   "id": "6c0e0fec",
   "metadata": {},
   "source": [
    "Создать модель"
   ]
  },
  {
   "cell_type": "code",
   "execution_count": 10,
   "id": "b21e7307",
   "metadata": {},
   "outputs": [
    {
     "name": "stdout",
     "output_type": "stream",
     "text": [
      "Используемое устройство: cuda\n",
      "Количество параметров модели: 14,680,291\n"
     ]
    }
   ],
   "source": [
    "device = torch.device('cuda' if torch.cuda.is_available() else 'cpu')\n",
    "print(f\"Используемое устройство: {device}\")\n",
    "\n",
    "model = LSTMLangModel(\n",
    "    vocab_size=vocab_size,\n",
    "    embedding_dim=256,\n",
    "    hidden_dim=512,\n",
    "    num_layers=2,\n",
    "    dropout=0.3\n",
    ").to(device)\n",
    "print(f\"Количество параметров модели: {sum(p.numel() for p in model.parameters()):,}\")"
   ]
  },
  {
   "cell_type": "markdown",
   "id": "fdb3020d",
   "metadata": {},
   "source": [
    "Обучение модели"
   ]
  },
  {
   "cell_type": "code",
   "execution_count": 11,
   "id": "e8cf8e2d",
   "metadata": {},
   "outputs": [
    {
     "name": "stderr",
     "output_type": "stream",
     "text": [
      "Эпохи обучения:  10%|█         | 1/10 [00:27<04:08, 27.63s/эпоха, train_loss=7.1143, val_loss=7.0048, rouge1=0.0370, lr=0.001000]"
     ]
    },
    {
     "name": "stdout",
     "output_type": "stream",
     "text": [
      "ROUGE Scores: {'rouge1': np.float64(0.037037037037037035), 'rouge2': np.float64(0.0), 'rougeL': np.float64(0.037037037037037035), 'rougeLsum': np.float64(0.037037037037037035)}\n",
      "Эпоха 1/10, Train Loss: 7.1143, Val Loss: 7.0048, ROUGE-1: 0.0370, ROUGE-2: 0.0000, ROUGE-L: 0.0370, LR: 0.001000\n"
     ]
    },
    {
     "name": "stderr",
     "output_type": "stream",
     "text": [
      "Эпохи обучения:  20%|██        | 2/10 [00:55<03:41, 27.71s/эпоха, train_loss=6.9682, val_loss=7.0550, rouge1=0.0476, lr=0.001000]"
     ]
    },
    {
     "name": "stdout",
     "output_type": "stream",
     "text": [
      "ROUGE Scores: {'rouge1': np.float64(0.047619047619047616), 'rouge2': np.float64(0.0), 'rougeL': np.float64(0.047619047619047616), 'rougeLsum': np.float64(0.047619047619047616)}\n",
      "Эпоха 2/10, Train Loss: 6.9682, Val Loss: 7.0550, ROUGE-1: 0.0476, ROUGE-2: 0.0000, ROUGE-L: 0.0476, LR: 0.001000\n"
     ]
    },
    {
     "name": "stderr",
     "output_type": "stream",
     "text": [
      "Эпохи обучения:  30%|███       | 3/10 [01:23<03:14, 27.73s/эпоха, train_loss=6.9417, val_loss=7.1304, rouge1=0.0476, lr=0.001000]"
     ]
    },
    {
     "name": "stdout",
     "output_type": "stream",
     "text": [
      "ROUGE Scores: {'rouge1': np.float64(0.047619047619047616), 'rouge2': np.float64(0.0), 'rougeL': np.float64(0.047619047619047616), 'rougeLsum': np.float64(0.047619047619047616)}\n",
      "Эпоха 3/10, Train Loss: 6.9417, Val Loss: 7.1304, ROUGE-1: 0.0476, ROUGE-2: 0.0000, ROUGE-L: 0.0476, LR: 0.001000\n"
     ]
    },
    {
     "name": "stderr",
     "output_type": "stream",
     "text": [
      "Эпохи обучения:  40%|████      | 4/10 [01:50<02:46, 27.72s/эпоха, train_loss=6.9292, val_loss=7.1835, rouge1=0.0370, lr=0.000500]"
     ]
    },
    {
     "name": "stdout",
     "output_type": "stream",
     "text": [
      "ROUGE Scores: {'rouge1': np.float64(0.037037037037037035), 'rouge2': np.float64(0.0), 'rougeL': np.float64(0.037037037037037035), 'rougeLsum': np.float64(0.037037037037037035)}\n",
      "Эпоха 4/10, Train Loss: 6.9292, Val Loss: 7.1835, ROUGE-1: 0.0370, ROUGE-2: 0.0000, ROUGE-L: 0.0370, LR: 0.000500\n"
     ]
    },
    {
     "name": "stderr",
     "output_type": "stream",
     "text": [
      "Эпохи обучения:  50%|█████     | 5/10 [02:18<02:18, 27.66s/эпоха, train_loss=6.9080, val_loss=7.2115, rouge1=0.0370, lr=0.000500]"
     ]
    },
    {
     "name": "stdout",
     "output_type": "stream",
     "text": [
      "ROUGE Scores: {'rouge1': np.float64(0.037037037037037035), 'rouge2': np.float64(0.0), 'rougeL': np.float64(0.037037037037037035), 'rougeLsum': np.float64(0.037037037037037035)}\n",
      "Эпоха 5/10, Train Loss: 6.9080, Val Loss: 7.2115, ROUGE-1: 0.0370, ROUGE-2: 0.0000, ROUGE-L: 0.0370, LR: 0.000500\n"
     ]
    },
    {
     "name": "stderr",
     "output_type": "stream",
     "text": [
      "Эпохи обучения:  60%|██████    | 6/10 [02:46<01:50, 27.69s/эпоха, train_loss=6.9046, val_loss=7.2532, rouge1=0.0370, lr=0.000500]"
     ]
    },
    {
     "name": "stdout",
     "output_type": "stream",
     "text": [
      "ROUGE Scores: {'rouge1': np.float64(0.037037037037037035), 'rouge2': np.float64(0.0), 'rougeL': np.float64(0.037037037037037035), 'rougeLsum': np.float64(0.037037037037037035)}\n",
      "Эпоха 6/10, Train Loss: 6.9046, Val Loss: 7.2532, ROUGE-1: 0.0370, ROUGE-2: 0.0000, ROUGE-L: 0.0370, LR: 0.000500\n"
     ]
    },
    {
     "name": "stderr",
     "output_type": "stream",
     "text": [
      "Эпохи обучения:  70%|███████   | 7/10 [03:13<01:23, 27.70s/эпоха, train_loss=6.9017, val_loss=7.3009, rouge1=0.0370, lr=0.000250]"
     ]
    },
    {
     "name": "stdout",
     "output_type": "stream",
     "text": [
      "ROUGE Scores: {'rouge1': np.float64(0.037037037037037035), 'rouge2': np.float64(0.0), 'rougeL': np.float64(0.037037037037037035), 'rougeLsum': np.float64(0.037037037037037035)}\n",
      "Эпоха 7/10, Train Loss: 6.9017, Val Loss: 7.3009, ROUGE-1: 0.0370, ROUGE-2: 0.0000, ROUGE-L: 0.0370, LR: 0.000250\n"
     ]
    },
    {
     "name": "stderr",
     "output_type": "stream",
     "text": [
      "Эпохи обучения:  80%|████████  | 8/10 [03:41<00:55, 27.69s/эпоха, train_loss=6.8929, val_loss=7.3190, rouge1=0.0476, lr=0.000250]"
     ]
    },
    {
     "name": "stdout",
     "output_type": "stream",
     "text": [
      "ROUGE Scores: {'rouge1': np.float64(0.047619047619047616), 'rouge2': np.float64(0.0), 'rougeL': np.float64(0.047619047619047616), 'rougeLsum': np.float64(0.047619047619047616)}\n",
      "Эпоха 8/10, Train Loss: 6.8929, Val Loss: 7.3190, ROUGE-1: 0.0476, ROUGE-2: 0.0000, ROUGE-L: 0.0476, LR: 0.000250\n"
     ]
    },
    {
     "name": "stderr",
     "output_type": "stream",
     "text": [
      "Эпохи обучения:  90%|█████████ | 9/10 [04:09<00:27, 27.72s/эпоха, train_loss=6.8917, val_loss=7.3425, rouge1=0.0370, lr=0.000250]"
     ]
    },
    {
     "name": "stdout",
     "output_type": "stream",
     "text": [
      "ROUGE Scores: {'rouge1': np.float64(0.037037037037037035), 'rouge2': np.float64(0.0), 'rougeL': np.float64(0.037037037037037035), 'rougeLsum': np.float64(0.037037037037037035)}\n",
      "Эпоха 9/10, Train Loss: 6.8917, Val Loss: 7.3425, ROUGE-1: 0.0370, ROUGE-2: 0.0000, ROUGE-L: 0.0370, LR: 0.000250\n"
     ]
    },
    {
     "name": "stderr",
     "output_type": "stream",
     "text": [
      "Эпохи обучения: 100%|██████████| 10/10 [04:37<00:00, 27.71s/эпоха, train_loss=6.8907, val_loss=7.3624, rouge1=0.0370, lr=0.000125]"
     ]
    },
    {
     "name": "stdout",
     "output_type": "stream",
     "text": [
      "ROUGE Scores: {'rouge1': np.float64(0.037037037037037035), 'rouge2': np.float64(0.0), 'rougeL': np.float64(0.037037037037037035), 'rougeLsum': np.float64(0.037037037037037035)}\n",
      "Эпоха 10/10, Train Loss: 6.8907, Val Loss: 7.3624, ROUGE-1: 0.0370, ROUGE-2: 0.0000, ROUGE-L: 0.0370, LR: 0.000125\n"
     ]
    },
    {
     "name": "stderr",
     "output_type": "stream",
     "text": [
      "\n"
     ]
    }
   ],
   "source": [
    "train_losses, val_losses, val_rouge_scores = train_model(\n",
    "        model, train_loader, val_loader, vocab_size, device,\n",
    "        num_epochs=10, learning_rate=0.001\n",
    "    )"
   ]
  },
  {
   "cell_type": "markdown",
   "id": "21309032",
   "metadata": {},
   "source": [
    "Визуализация результатов"
   ]
  },
  {
   "cell_type": "code",
   "execution_count": 12,
   "id": "a7582a9c",
   "metadata": {},
   "outputs": [
    {
     "data": {
      "image/png": "[encoded data removed]",
      "text/plain": [
       "<Figure size 1500x500 with 2 Axes>"
      ]
     },
     "metadata": {},
     "output_type": "display_data"
    },
    {
     "name": "stdout",
     "output_type": "stream",
     "text": [
      "\n",
      "Финальные метрики:\n",
      "Final Train Loss: 6.8907\n",
      "Final Val Loss: 7.3624\n",
      "Final ROUGE-1: 0.0370\n",
      "Final ROUGE-2: 0.0000\n",
      "Final ROUGE-L: 0.0370\n"
     ]
    }
   ],
   "source": [
    "plt.figure(figsize=(15,5))\n",
    "\n",
    "#Потери\n",
    "plt.subplot(1, 2, 1)\n",
    "plt.plot(train_losses, label='Train Loss')\n",
    "plt.plot(val_losses, label='Val Loss')\n",
    "plt.xlabel('Epoch')\n",
    "plt.ylabel('Loss')\n",
    "plt.title('Training and Validation Loss')\n",
    "plt.legend()\n",
    "plt.grid(True)\n",
    "\n",
    "#Rouge метрики\n",
    "plt.subplot(1, 2, 2)\n",
    "rouge1_scores = [score.get('rouge1', 0) for score in val_rouge_scores if score]\n",
    "rouge2_scores = [score.get('rouge2', 0) for score in val_rouge_scores if score]\n",
    "rougeL_scores = [score.get('rougeL', 0) for score in val_rouge_scores if score]\n",
    "\n",
    "epochs = range(1, len(rouge1_scores) + 1)\n",
    "plt.plot(epochs, rouge1_scores, label='ROUGE-1', marker='o')\n",
    "plt.plot(epochs, rouge2_scores, label='ROUGE-2', marker='s')\n",
    "plt.plot(epochs, rougeL_scores, label='ROUGE-L', marker='^')\n",
    "plt.xlabel('Epoch')\n",
    "plt.ylabel('ROUGE Score')\n",
    "plt.title('Validation ROUGE Scores')\n",
    "plt.legend()\n",
    "plt.grid(True)\n",
    "\n",
    "plt.tight_layout()\n",
    "plt.savefig('training_metrics.png')\n",
    "plt.show()\n",
    "\n",
    "print(\"\\nФинальные метрики:\")\n",
    "print(f\"Final Train Loss: {train_losses[-1]:.4f}\")\n",
    "print(f\"Final Val Loss: {val_losses[-1]:.4f}\")\n",
    "if val_rouge_scores and val_rouge_scores[-1]:\n",
    "    print(f\"Final ROUGE-1: {val_rouge_scores[-1]['rouge1']:.4f}\")\n",
    "    print(f\"Final ROUGE-2: {val_rouge_scores[-1]['rouge2']:.4f}\")\n",
    "    print(f\"Final ROUGE-L: {val_rouge_scores[-1]['rougeL']:.4f}\")"
   ]
  },
  {
   "cell_type": "markdown",
   "id": "1a027f11",
   "metadata": {},
   "source": [
    "Тестирование модели"
   ]
  },
  {
   "cell_type": "code",
   "execution_count": 13,
   "id": "0032d244",
   "metadata": {},
   "outputs": [
    {
     "name": "stdout",
     "output_type": "stream",
     "text": [
      "Значение потери на этапе тестирования: 7.4016\n"
     ]
    }
   ],
   "source": [
    "model.eval()\n",
    "test_loss = 0\n",
    "criterion = nn.CrossEntropyLoss(ignore_index=0)\n",
    "\n",
    "with torch.no_grad():\n",
    "    for batch in test_loader:\n",
    "        input_ids = batch['input_ids'].to(device)\n",
    "        targets = batch['target'].to(device)\n",
    "        \n",
    "        outputs, _ = model(input_ids)\n",
    "        loss = criterion(outputs, targets)\n",
    "        \n",
    "        test_loss += loss.item()\n",
    "\n",
    "avg_test_loss = test_loss / len(test_loader)\n",
    "print(f\"Значение потери на этапе тестирования: {avg_test_loss:.4f}\")"
   ]
  },
  {
   "cell_type": "markdown",
   "id": "e0a38719",
   "metadata": {},
   "source": [
    "Пример предсказания"
   ]
  },
  {
   "cell_type": "code",
   "execution_count": 14,
   "id": "351e8d0c",
   "metadata": {},
   "outputs": [
    {
     "name": "stdout",
     "output_type": "stream",
     "text": [
      "Топ-5 предсказаний:\n",
      "  1. 'to' (13): 0.0545\n",
      "  2. 'i' (34): 0.0544\n",
      "  3. 'the' (39): 0.0407\n",
      "  4. 'a' (2): 0.0287\n",
      "  5. 'my' (47): 0.0235\n",
      "Input: this is a\n",
      "Predicted next token: to\n"
     ]
    }
   ],
   "source": [
    "test_sequence = [\"this\", \"is\", \"a\"]\n",
    "next_token, probabilities = model.predict_next_token(test_sequence, vocab, device)\n",
    "print(f\"Input: {' '.join(test_sequence)}\")\n",
    "print(f\"Predicted next token: {next_token}\")"
   ]
  },
  {
   "cell_type": "markdown",
   "id": "641a6e57",
   "metadata": {},
   "source": [
    "Оценка с использованием distilgpt2"
   ]
  },
  {
   "cell_type": "code",
   "execution_count": 15,
   "id": "5844aab6",
   "metadata": {},
   "outputs": [
    {
     "name": "stdout",
     "output_type": "stream",
     "text": [
      "Загрузка модели DistilGPT2...\n"
     ]
    },
    {
     "data": {
      "application/vnd.jupyter.widget-view+json": {
       "model_id": "49ae6c5a69314be89b693f65b20997a4",
       "version_major": 2,
       "version_minor": 0
      },
      "text/plain": [
       "config.json:   0%|          | 0.00/762 [00:00<?, ?B/s]"
      ]
     },
     "metadata": {},
     "output_type": "display_data"
    },
    {
     "name": "stderr",
     "output_type": "stream",
     "text": [
      "d:\\ML\\Yandex\\Projects\\text-autocomplete\\.venv\\Lib\\site-packages\\huggingface_hub\\file_download.py:143: UserWarning: `huggingface_hub` cache-system uses symlinks by default to efficiently store duplicated files but your machine does not support them in C:\\Users\\a.ledenev\\.cache\\huggingface\\hub\\models--distilgpt2. Caching files will still work but in a degraded version that might require more space on your disk. This warning can be disabled by setting the `HF_HUB_DISABLE_SYMLINKS_WARNING` environment variable. For more details, see https://huggingface.co/docs/huggingface_hub/how-to-cache#limitations.\n",
      "To support symlinks on Windows, you either need to activate Developer Mode or to run Python as an administrator. In order to activate developer mode, see this article: https://docs.microsoft.com/en-us/windows/apps/get-started/enable-your-device-for-development\n",
      "  warnings.warn(message)\n",
      "Xet Storage is enabled for this repo, but the 'hf_xet' package is not installed. Falling back to regular HTTP download. For better performance, install the package with: `pip install huggingface_hub[hf_xet]` or `pip install hf_xet`\n",
      "WARNING:huggingface_hub.file_download:Xet Storage is enabled for this repo, but the 'hf_xet' package is not installed. Falling back to regular HTTP download. For better performance, install the package with: `pip install huggingface_hub[hf_xet]` or `pip install hf_xet`\n"
     ]
    },
    {
     "data": {
      "application/vnd.jupyter.widget-view+json": {
       "model_id": "e4000a8775ed46bb9230cf1e3cf6a46c",
       "version_major": 2,
       "version_minor": 0
      },
      "text/plain": [
       "model.safetensors:   0%|          | 0.00/353M [00:00<?, ?B/s]"
      ]
     },
     "metadata": {},
     "output_type": "display_data"
    },
    {
     "data": {
      "application/vnd.jupyter.widget-view+json": {
       "model_id": "880e03b28d75439a883ee354652f174d",
       "version_major": 2,
       "version_minor": 0
      },
      "text/plain": [
       "generation_config.json:   0%|          | 0.00/124 [00:00<?, ?B/s]"
      ]
     },
     "metadata": {},
     "output_type": "display_data"
    },
    {
     "data": {
      "application/vnd.jupyter.widget-view+json": {
       "model_id": "86f5eeecb8ea40208d04e0b7758ae99b",
       "version_major": 2,
       "version_minor": 0
      },
      "text/plain": [
       "tokenizer_config.json:   0%|          | 0.00/26.0 [00:00<?, ?B/s]"
      ]
     },
     "metadata": {},
     "output_type": "display_data"
    },
    {
     "data": {
      "application/vnd.jupyter.widget-view+json": {
       "model_id": "12b90a5337824e23ad56df93ebd44fb8",
       "version_major": 2,
       "version_minor": 0
      },
      "text/plain": [
       "vocab.json:   0%|          | 0.00/1.04M [00:00<?, ?B/s]"
      ]
     },
     "metadata": {},
     "output_type": "display_data"
    },
    {
     "data": {
      "application/vnd.jupyter.widget-view+json": {
       "model_id": "7cebae58e8a9476a9a99d6c4ec64fecc",
       "version_major": 2,
       "version_minor": 0
      },
      "text/plain": [
       "merges.txt:   0%|          | 0.00/456k [00:00<?, ?B/s]"
      ]
     },
     "metadata": {},
     "output_type": "display_data"
    },
    {
     "data": {
      "application/vnd.jupyter.widget-view+json": {
       "model_id": "d452aba05cb6439db09b294de1816342",
       "version_major": 2,
       "version_minor": 0
      },
      "text/plain": [
       "tokenizer.json:   0%|          | 0.00/1.36M [00:00<?, ?B/s]"
      ]
     },
     "metadata": {},
     "output_type": "display_data"
    },
    {
     "name": "stderr",
     "output_type": "stream",
     "text": [
      "Device set to use cuda:0\n"
     ]
    },
    {
     "name": "stdout",
     "output_type": "stream",
     "text": [
      "Начинаем оценку модели...\n"
     ]
    },
    {
     "name": "stderr",
     "output_type": "stream",
     "text": [
      "Оценка текстов:   0%|          | 0/50 [00:00<?, ?it/s]Truncation was not explicitly activated but `max_length` is provided a specific value, please use `truncation=True` to explicitly truncate examples to max length. Defaulting to 'longest_first' truncation strategy. If you encode pairs of sequences (GLUE-style) with the tokenizer you can select this strategy more precisely by providing a specific strategy to `truncation`.\n",
      "Both `max_new_tokens` (=256) and `max_length`(=31) seem to have been set. `max_new_tokens` will take precedence. Please refer to the documentation for more information. (https://huggingface.co/docs/transformers/main/en/main_classes/text_generation)\n",
      "Оценка текстов:   2%|▏         | 1/50 [00:01<01:06,  1.35s/it]Both `max_new_tokens` (=256) and `max_length`(=32) seem to have been set. `max_new_tokens` will take precedence. Please refer to the documentation for more information. (https://huggingface.co/docs/transformers/main/en/main_classes/text_generation)\n",
      "Оценка текстов:   4%|▍         | 2/50 [00:02<00:48,  1.00s/it]Both `max_new_tokens` (=256) and `max_length`(=18) seem to have been set. `max_new_tokens` will take precedence. Please refer to the documentation for more information. (https://huggingface.co/docs/transformers/main/en/main_classes/text_generation)\n",
      "Оценка текстов:  24%|██▍       | 12/50 [00:02<00:04,  8.65it/s]Both `max_new_tokens` (=256) and `max_length`(=19) seem to have been set. `max_new_tokens` will take precedence. Please refer to the documentation for more information. (https://huggingface.co/docs/transformers/main/en/main_classes/text_generation)\n",
      "Оценка текстов:  34%|███▍      | 17/50 [00:03<00:04,  7.28it/s]Both `max_new_tokens` (=256) and `max_length`(=18) seem to have been set. `max_new_tokens` will take precedence. Please refer to the documentation for more information. (https://huggingface.co/docs/transformers/main/en/main_classes/text_generation)\n",
      "Both `max_new_tokens` (=256) and `max_length`(=19) seem to have been set. `max_new_tokens` will take precedence. Please refer to the documentation for more information. (https://huggingface.co/docs/transformers/main/en/main_classes/text_generation)\n",
      "Both `max_new_tokens` (=256) and `max_length`(=20) seem to have been set. `max_new_tokens` will take precedence. Please refer to the documentation for more information. (https://huggingface.co/docs/transformers/main/en/main_classes/text_generation)\n",
      "Both `max_new_tokens` (=256) and `max_length`(=21) seem to have been set. `max_new_tokens` will take precedence. Please refer to the documentation for more information. (https://huggingface.co/docs/transformers/main/en/main_classes/text_generation)\n",
      "Оценка текстов:  46%|████▌     | 23/50 [00:03<00:03,  7.39it/s]Both `max_new_tokens` (=256) and `max_length`(=22) seem to have been set. `max_new_tokens` will take precedence. Please refer to the documentation for more information. (https://huggingface.co/docs/transformers/main/en/main_classes/text_generation)\n",
      "Both `max_new_tokens` (=256) and `max_length`(=23) seem to have been set. `max_new_tokens` will take precedence. Please refer to the documentation for more information. (https://huggingface.co/docs/transformers/main/en/main_classes/text_generation)\n",
      "You seem to be using the pipelines sequentially on GPU. In order to maximize efficiency please use a dataset\n",
      "Both `max_new_tokens` (=256) and `max_length`(=24) seem to have been set. `max_new_tokens` will take precedence. Please refer to the documentation for more information. (https://huggingface.co/docs/transformers/main/en/main_classes/text_generation)\n",
      "Оценка текстов:  52%|█████▏    | 26/50 [00:04<00:03,  6.17it/s]Both `max_new_tokens` (=256) and `max_length`(=25) seem to have been set. `max_new_tokens` will take precedence. Please refer to the documentation for more information. (https://huggingface.co/docs/transformers/main/en/main_classes/text_generation)\n",
      "Both `max_new_tokens` (=256) and `max_length`(=26) seem to have been set. `max_new_tokens` will take precedence. Please refer to the documentation for more information. (https://huggingface.co/docs/transformers/main/en/main_classes/text_generation)\n",
      "Оценка текстов:  56%|█████▌    | 28/50 [00:06<00:05,  3.73it/s]Both `max_new_tokens` (=256) and `max_length`(=27) seem to have been set. `max_new_tokens` will take precedence. Please refer to the documentation for more information. (https://huggingface.co/docs/transformers/main/en/main_classes/text_generation)\n",
      "Both `max_new_tokens` (=256) and `max_length`(=28) seem to have been set. `max_new_tokens` will take precedence. Please refer to the documentation for more information. (https://huggingface.co/docs/transformers/main/en/main_classes/text_generation)\n",
      "Оценка текстов:  60%|██████    | 30/50 [00:07<00:07,  2.69it/s]Both `max_new_tokens` (=256) and `max_length`(=29) seem to have been set. `max_new_tokens` will take precedence. Please refer to the documentation for more information. (https://huggingface.co/docs/transformers/main/en/main_classes/text_generation)\n",
      "Оценка текстов:  62%|██████▏   | 31/50 [00:07<00:06,  2.83it/s]Both `max_new_tokens` (=256) and `max_length`(=30) seem to have been set. `max_new_tokens` will take precedence. Please refer to the documentation for more information. (https://huggingface.co/docs/transformers/main/en/main_classes/text_generation)\n",
      "Оценка текстов:  64%|██████▍   | 32/50 [00:08<00:07,  2.38it/s]Both `max_new_tokens` (=256) and `max_length`(=18) seem to have been set. `max_new_tokens` will take precedence. Please refer to the documentation for more information. (https://huggingface.co/docs/transformers/main/en/main_classes/text_generation)\n",
      "Оценка текстов:  78%|███████▊  | 39/50 [00:09<00:02,  4.26it/s]Both `max_new_tokens` (=256) and `max_length`(=18) seem to have been set. `max_new_tokens` will take precedence. Please refer to the documentation for more information. (https://huggingface.co/docs/transformers/main/en/main_classes/text_generation)\n",
      "Both `max_new_tokens` (=256) and `max_length`(=19) seem to have been set. `max_new_tokens` will take precedence. Please refer to the documentation for more information. (https://huggingface.co/docs/transformers/main/en/main_classes/text_generation)\n",
      "Оценка текстов: 100%|██████████| 50/50 [00:09<00:00,  5.22it/s]"
     ]
    },
    {
     "name": "stdout",
     "output_type": "stream",
     "text": [
      "\n",
      "==================================================\n",
      "РЕЗУЛЬТАТЫ ОЦЕНКИ DistilGPT2\n",
      "==================================================\n",
      "ROUGE-1: 0.0023\n",
      "ROUGE-2: 0.0000\n",
      "ROUGE-L: 0.0020\n",
      "Оценено текстов: 20\n",
      "\n",
      "Примеры предсказаний:\n",
      "\n",
      "Пример 1:\n",
      "Контекст: ['lol', 'yea', 'i', 'really', 'hated', 'that', 'episode', 'last', 'night', 'and', 'i', 'hated', 'the', 'fake', 'obit']...\n",
      "Ожидалось: online even more im gonna miss\n",
      "Предсказано: uary because i thought i could not watch it, i just watched it, i dont like it in the first place, it is a ridiculous thing to watch it i dont like it in the first place, it is a ridiculous thing to watch it i dont like it in the first place, it is a ridiculous thing to watch it i dont like it in the first place, it is a ridiculous thing to watch it i dont like it in the first place, it is a ridiculous thing to watch it i dont like it in the first place, it is a ridiculous thing to watch it i dont like it in the first place, it is a ridiculous thing to watch it i dont like it in the first place, it is a ridiculous thing to watch it i dont like it in the first place, it is a ridiculous thing to watch it i dont like it in the first place, it is a ridiculous thing to watch it i dont like it in the first place, it is a ridiculous thing to watch it i dont like it in the first place, it is a ridiculous thing to watch it i dont like it in the first place, it is a ridiculous thing to watch it i dont like it in the first place, it is a ridiculous thing to watch it i dont like\n",
      "\n",
      "Пример 2:\n",
      "Контекст: ['lol', 'yea', 'i', 'really', 'hated', 'that', 'episode', 'last', 'night', 'and', 'i', 'hated', 'the', 'fake', 'obit', 'online']...\n",
      "Ожидалось: even more im gonna miss him\n",
      "Предсказано: . so it was like i got to watch the stream of this one and i didn't have a clue what to do but i was so excited. a lot of people were talking about it because i was watching it and i loved it so i think i was really excited. i loved it because i loved it so i think i was really excited. i love it because i love it because i love it because i love it because i love it because i love it because i love it because i love it because i love it because i love it because i love it because i love it because it is so good that i love it because i love it because i love it because i love it because i love it because i love it because i love it because i love it because i love it because i love it because i love it because i love it because i love it because i love it because i love it because i love it because i love it because i love it because i love it because i love it because i love it because i love it because i love it because i love it because i love it because i love it because i love it because i love it because i love it because i love it because i love it because i love it because i love it because i\n",
      "\n",
      "Пример 3:\n",
      "Контекст: ['so']...\n",
      "Ожидалось: taken advantage\n",
      "Предсказано: the fact that there are many different types of people in the world, so I think I'm more of a person with a lot of knowledge than a typical person.\"\n",
      "\n",
      "Сравнение моделей:\n",
      "LSTM ROUGE-1: 0.0370\n",
      "DistilGPT2 ROUGE-1: 0.0023\n"
     ]
    },
    {
     "name": "stderr",
     "output_type": "stream",
     "text": [
      "\n"
     ]
    }
   ],
   "source": [
    "val_texts = []\n",
    "for i, (x_seq, y_token) in enumerate(zip(X_val, y_val)):\n",
    "    if i < 100:  # Ограничение количества для скорости\n",
    "        text = ' '.join(x_seq) + ' ' + y_token\n",
    "        val_texts.append(text)\n",
    "\n",
    "gpt2_results = evaluate_distilgpt2_rouge(val_texts[:50])\n",
    "print(\"\\nСравнение моделей:\")\n",
    "print(f\"LSTM ROUGE-1: {val_rouge_scores[-1]['rouge1']:.4f}\")\n",
    "print(f\"DistilGPT2 ROUGE-1: {gpt2_results['rouge1']:.4f}\")\n"
   ]
  },
  {
   "cell_type": "markdown",
   "id": "229dc8e8",
   "metadata": {},
   "source": [
    "Сохранение модели"
   ]
  },
  {
   "cell_type": "code",
   "execution_count": null,
   "id": "6c1063ef",
   "metadata": {},
   "outputs": [],
   "source": [
    "save_path = \"models/lstm_language_model.pth\"\n",
    "os.makedirs(os.path.dirname(save_path), exist_ok=True)\n",
    "torch.save({\n",
    "        'model_state_dict': model.state_dict(),\n",
    "        'vocab': vocab,\n",
    "        'model_config': {\n",
    "            'vocab_size': vocab_size,\n",
    "            'embedding_dim': 256,\n",
    "            'hidden_dim': 512,\n",
    "            'num_layers': 2,\n",
    "            'dropout': 0.3\n",
    "        }\n",
    "    }, save_path)\n",
    "print(f\"Модель сохранена в: {save_path}\")"
   ]
  },
  {
   "cell_type": "markdown",
   "id": "4e3afca8",
   "metadata": {},
   "source": [
    "# Вывод\n",
    "\n",
    "Исходя из наблюдающегося чрезмерно большого времени на обучение нейросети было принято решение урезать с 1,6М записей до 10К записей в исходном .csv файле, подаваемого на вход. Даже при таком кардинальном уменьшении обучающей выборки результат на основе LSTM превосходит DistilGPT2:\n",
    "\n",
    "LSTM ROUGE-1: <b>0.0370</b><br>\n",
    "DistilGPT2 ROUGE-1: <b>0.0023</b>\n"
   ]
  }
 ],
 "metadata": {
  "kernelspec": {
   "display_name": ".venv",
   "language": "python",
   "name": "python3"
  },
  "language_info": {
   "codemirror_mode": {
    "name": "ipython",
    "version": 3
   },
   "file_extension": ".py",
   "mimetype": "text/x-python",
   "name": "python",
   "nbconvert_exporter": "python",
   "pygments_lexer": "ipython3",
   "version": "3.11.4"
  }
 },
 "nbformat": 4,
 "nbformat_minor": 5
}
