{
 "cells": [
  {
   "cell_type": "code",
   "execution_count": 1,
   "id": "69acd7c7",
   "metadata": {},
   "outputs": [],
   "source": [
    "import pandas as pd\n",
    "import numpy as np\n",
    "import torch\n",
    "import torch.nn as nn\n",
    "import matplotlib.pyplot as plt\n",
    "import os\n",
    "\n",
    "from src.proj_utils import(\n",
    "    tokenize_text,\n",
    "    create_training_examples,\n",
    "    prepare_datasets,\n",
    "    build_vocabulary\n",
    ")\n",
    "\n",
    "from src.model import LSTMLangModel, train_model\n",
    "from src.dataset import TextGenerationDataset, create_dataloaders\n",
    "from src.evaluate_transformers import evaluate_distilgpt2_rouge, evaluate_text_generation"
   ]
  },
  {
   "cell_type": "code",
   "execution_count": 2,
   "id": "d54f3594",
   "metadata": {},
   "outputs": [],
   "source": [
    "df = pd.read_csv('data/training.1600000.processed.noemoticon_reduced.csv', encoding='latin-1', header=None)\n",
    "df.columns = ['sentiment', 'id', 'date', 'flag', 'user', 'text']"
   ]
  },
  {
   "cell_type": "markdown",
   "id": "ff929149",
   "metadata": {},
   "source": [
    "Блок приведения к нижнему регистру, удаления ссылок, упоминаний через @, спецсимоволов.\n",
    "После - удалить лишние символы"
   ]
  },
  {
   "cell_type": "code",
   "execution_count": 3,
   "id": "057cc252",
   "metadata": {},
   "outputs": [],
   "source": [
    "df['text'] = df['text'].str.lower()\n",
    "df['text'] = df['text'].str.replace(r'http\\S+|www\\S+|@\\w+|[^\\w\\s]', '', regex=True)\n",
    "df['text'] = df['text'].str.strip()"
   ]
  },
  {
   "cell_type": "markdown",
   "id": "4e17ac41",
   "metadata": {},
   "source": [
    "Получение токенов из текста публикаций и обучающих примеров"
   ]
  },
  {
   "cell_type": "code",
   "execution_count": 4,
   "id": "1ba4719f",
   "metadata": {},
   "outputs": [],
   "source": [
    "df['tokenized'] = df['text'].apply(tokenize_text)"
   ]
  },
  {
   "cell_type": "code",
   "execution_count": 5,
   "id": "dd5b49f9",
   "metadata": {},
   "outputs": [
    {
     "name": "stdout",
     "output_type": "stream",
     "text": [
      "Используется 28 процессов для создания примеров...\n"
     ]
    }
   ],
   "source": [
    "X, Y = create_training_examples(df['tokenized'].to_list())"
   ]
  },
  {
   "cell_type": "markdown",
   "id": "cb546f71",
   "metadata": {},
   "source": [
    "Разделение на обучающую проверочную и тестовую выборки"
   ]
  },
  {
   "cell_type": "code",
   "execution_count": 6,
   "id": "5170f2dd",
   "metadata": {},
   "outputs": [],
   "source": [
    "X_train, X_val, X_test, y_train, y_val, y_test = prepare_datasets(X, Y)"
   ]
  },
  {
   "cell_type": "code",
   "execution_count": 7,
   "id": "9472dbc7",
   "metadata": {},
   "outputs": [
    {
     "name": "stdout",
     "output_type": "stream",
     "text": [
      "Размеры данных:\n",
      "Train: 96686 примеров\n",
      "Validation: 12086 примеров\n",
      "Test: 12086 примеров\n"
     ]
    }
   ],
   "source": [
    "print(f\"Размеры данных:\")\n",
    "print(f\"Train: {len(X_train)} примеров\")\n",
    "print(f\"Validation: {len(X_val)} примеров\")\n",
    "print(f\"Test: {len(X_test)} примеров\")"
   ]
  },
  {
   "cell_type": "markdown",
   "id": "9ac7e3b7",
   "metadata": {},
   "source": [
    "Создать словарь"
   ]
  },
  {
   "cell_type": "code",
   "execution_count": 8,
   "id": "5f8e8b1b",
   "metadata": {},
   "outputs": [
    {
     "name": "stdout",
     "output_type": "stream",
     "text": [
      "Размер словаря: 14307\n",
      "Примеры слов в словаре: ['<PAD>', '<UNK>', 'a', 'thats', 'bummer', 'you', 'shoulda', 'got', 'david', 'carr', 'of', 'third', 'day', 'to', 'do', 'it', 'is', 'upset', 'that', 'he']\n",
      "'this' есть в словаре: индекс 159\n",
      "'is' есть в словаре: индекс 16\n",
      "'a' есть в словаре: индекс 2\n"
     ]
    }
   ],
   "source": [
    "all_tokens = []\n",
    "for seq in X:\n",
    "    all_tokens.extend(seq)\n",
    "all_tokens.extend(Y)\n",
    "vocab = build_vocabulary([all_tokens], min_freq=1)\n",
    "vocab_size = len(vocab)\n",
    "\n",
    "print(f\"Размер словаря: {vocab_size}\")\n",
    "print(f\"Примеры слов в словаре: {list(vocab.keys())[:20]}\")\n",
    "\n",
    "\n",
    "test_words = [\"this\", \"is\", \"a\"]\n",
    "for word in test_words:\n",
    "    if word in vocab:\n",
    "        print(f\"'{word}' есть в словаре: индекс {vocab[word]}\")\n",
    "    else:\n",
    "        print(f\"'{word}' НЕТ в словаре!\")"
   ]
  },
  {
   "cell_type": "markdown",
   "id": "3c2d302f",
   "metadata": {},
   "source": [
    "Создать загрузчиков данных"
   ]
  },
  {
   "cell_type": "code",
   "execution_count": 9,
   "id": "a0671ffe",
   "metadata": {},
   "outputs": [],
   "source": [
    "batch_size = 64\n",
    "max_seq_length = 50\n",
    "\n",
    "train_loader, val_loader, test_loader = create_dataloaders(\n",
    "        X_train, y_train, X_val, y_val, X_test, y_test,\n",
    "        vocab, batch_size, max_seq_length\n",
    "    )"
   ]
  },
  {
   "cell_type": "markdown",
   "id": "6c0e0fec",
   "metadata": {},
   "source": [
    "Создать модель"
   ]
  },
  {
   "cell_type": "code",
   "execution_count": 10,
   "id": "b21e7307",
   "metadata": {},
   "outputs": [
    {
     "name": "stdout",
     "output_type": "stream",
     "text": [
      "Используемое устройство: cuda\n",
      "Количество параметров модели: 14,680,291\n"
     ]
    }
   ],
   "source": [
    "device = torch.device('cuda' if torch.cuda.is_available() else 'cpu')\n",
    "print(f\"Используемое устройство: {device}\")\n",
    "\n",
    "model = LSTMLangModel(\n",
    "    vocab_size=vocab_size,\n",
    "    embedding_dim=256,\n",
    "    hidden_dim=512,\n",
    "    num_layers=2,\n",
    "    dropout=0.3\n",
    ").to(device)\n",
    "print(f\"Количество параметров модели: {sum(p.numel() for p in model.parameters()):,}\")"
   ]
  },
  {
   "cell_type": "markdown",
   "id": "fdb3020d",
   "metadata": {},
   "source": [
    "Обучение модели"
   ]
  },
  {
   "cell_type": "code",
   "execution_count": 11,
   "id": "e8cf8e2d",
   "metadata": {},
   "outputs": [
    {
     "name": "stderr",
     "output_type": "stream",
     "text": [
      "Эпохи обучения:  10%|█         | 1/10 [00:28<04:13, 28.14s/эпоха, train_loss=7.1114, val_loss=7.0152, rouge1=0.0476, lr=0.001000]"
     ]
    },
    {
     "name": "stdout",
     "output_type": "stream",
     "text": [
      "ROUGE Scores: {'rouge1': np.float64(0.047619047619047616), 'rouge2': np.float64(0.0), 'rougeL': np.float64(0.047619047619047616), 'rougeLsum': np.float64(0.047619047619047616)}\n",
      "Эпоха 1/10, Train Loss: 7.1114, Val Loss: 7.0152, ROUGE-1: 0.0476, ROUGE-2: 0.0000, ROUGE-L: 0.0476, LR: 0.001000\n"
     ]
    },
    {
     "name": "stderr",
     "output_type": "stream",
     "text": [
      "Эпохи обучения:  20%|██        | 2/10 [00:56<03:45, 28.25s/эпоха, train_loss=6.9858, val_loss=7.0774, rouge1=0.0476, lr=0.001000]"
     ]
    },
    {
     "name": "stdout",
     "output_type": "stream",
     "text": [
      "ROUGE Scores: {'rouge1': np.float64(0.047619047619047616), 'rouge2': np.float64(0.0), 'rougeL': np.float64(0.047619047619047616), 'rougeLsum': np.float64(0.047619047619047616)}\n",
      "Эпоха 2/10, Train Loss: 6.9858, Val Loss: 7.0774, ROUGE-1: 0.0476, ROUGE-2: 0.0000, ROUGE-L: 0.0476, LR: 0.001000\n"
     ]
    },
    {
     "name": "stderr",
     "output_type": "stream",
     "text": [
      "Эпохи обучения:  30%|███       | 3/10 [01:24<03:18, 28.30s/эпоха, train_loss=6.9423, val_loss=7.1422, rouge1=0.0370, lr=0.001000]"
     ]
    },
    {
     "name": "stdout",
     "output_type": "stream",
     "text": [
      "ROUGE Scores: {'rouge1': np.float64(0.037037037037037035), 'rouge2': np.float64(0.0), 'rougeL': np.float64(0.037037037037037035), 'rougeLsum': np.float64(0.037037037037037035)}\n",
      "Эпоха 3/10, Train Loss: 6.9423, Val Loss: 7.1422, ROUGE-1: 0.0370, ROUGE-2: 0.0000, ROUGE-L: 0.0370, LR: 0.001000\n"
     ]
    },
    {
     "name": "stderr",
     "output_type": "stream",
     "text": [
      "Эпохи обучения:  40%|████      | 4/10 [01:53<02:49, 28.31s/эпоха, train_loss=6.9280, val_loss=7.1883, rouge1=0.0370, lr=0.000500]"
     ]
    },
    {
     "name": "stdout",
     "output_type": "stream",
     "text": [
      "ROUGE Scores: {'rouge1': np.float64(0.037037037037037035), 'rouge2': np.float64(0.0), 'rougeL': np.float64(0.037037037037037035), 'rougeLsum': np.float64(0.037037037037037035)}\n",
      "Эпоха 4/10, Train Loss: 6.9280, Val Loss: 7.1883, ROUGE-1: 0.0370, ROUGE-2: 0.0000, ROUGE-L: 0.0370, LR: 0.000500\n"
     ]
    },
    {
     "name": "stderr",
     "output_type": "stream",
     "text": [
      "Эпохи обучения:  50%|█████     | 5/10 [02:21<02:21, 28.32s/эпоха, train_loss=6.9087, val_loss=7.2214, rouge1=0.0370, lr=0.000500]"
     ]
    },
    {
     "name": "stdout",
     "output_type": "stream",
     "text": [
      "ROUGE Scores: {'rouge1': np.float64(0.037037037037037035), 'rouge2': np.float64(0.0), 'rougeL': np.float64(0.037037037037037035), 'rougeLsum': np.float64(0.037037037037037035)}\n",
      "Эпоха 5/10, Train Loss: 6.9087, Val Loss: 7.2214, ROUGE-1: 0.0370, ROUGE-2: 0.0000, ROUGE-L: 0.0370, LR: 0.000500\n"
     ]
    },
    {
     "name": "stderr",
     "output_type": "stream",
     "text": [
      "Эпохи обучения:  60%|██████    | 6/10 [02:49<01:53, 28.35s/эпоха, train_loss=6.9054, val_loss=7.2555, rouge1=0.0370, lr=0.000500]"
     ]
    },
    {
     "name": "stdout",
     "output_type": "stream",
     "text": [
      "ROUGE Scores: {'rouge1': np.float64(0.037037037037037035), 'rouge2': np.float64(0.0), 'rougeL': np.float64(0.037037037037037035), 'rougeLsum': np.float64(0.037037037037037035)}\n",
      "Эпоха 6/10, Train Loss: 6.9054, Val Loss: 7.2555, ROUGE-1: 0.0370, ROUGE-2: 0.0000, ROUGE-L: 0.0370, LR: 0.000500\n"
     ]
    },
    {
     "name": "stderr",
     "output_type": "stream",
     "text": [
      "Эпохи обучения:  70%|███████   | 7/10 [03:18<01:25, 28.34s/эпоха, train_loss=6.9028, val_loss=7.3226, rouge1=0.0476, lr=0.000250]"
     ]
    },
    {
     "name": "stdout",
     "output_type": "stream",
     "text": [
      "ROUGE Scores: {'rouge1': np.float64(0.047619047619047616), 'rouge2': np.float64(0.0), 'rougeL': np.float64(0.047619047619047616), 'rougeLsum': np.float64(0.047619047619047616)}\n",
      "Эпоха 7/10, Train Loss: 6.9028, Val Loss: 7.3226, ROUGE-1: 0.0476, ROUGE-2: 0.0000, ROUGE-L: 0.0476, LR: 0.000250\n"
     ]
    },
    {
     "name": "stderr",
     "output_type": "stream",
     "text": [
      "Эпохи обучения:  80%|████████  | 8/10 [03:46<00:56, 28.33s/эпоха, train_loss=6.8924, val_loss=7.3218, rouge1=0.0370, lr=0.000250]"
     ]
    },
    {
     "name": "stdout",
     "output_type": "stream",
     "text": [
      "ROUGE Scores: {'rouge1': np.float64(0.037037037037037035), 'rouge2': np.float64(0.0), 'rougeL': np.float64(0.037037037037037035), 'rougeLsum': np.float64(0.037037037037037035)}\n",
      "Эпоха 8/10, Train Loss: 6.8924, Val Loss: 7.3218, ROUGE-1: 0.0370, ROUGE-2: 0.0000, ROUGE-L: 0.0370, LR: 0.000250\n"
     ]
    },
    {
     "name": "stderr",
     "output_type": "stream",
     "text": [
      "Эпохи обучения:  90%|█████████ | 9/10 [04:14<00:28, 28.25s/эпоха, train_loss=6.8890, val_loss=7.3471, rouge1=0.0476, lr=0.000250]"
     ]
    },
    {
     "name": "stdout",
     "output_type": "stream",
     "text": [
      "ROUGE Scores: {'rouge1': np.float64(0.047619047619047616), 'rouge2': np.float64(0.0), 'rougeL': np.float64(0.047619047619047616), 'rougeLsum': np.float64(0.047619047619047616)}\n",
      "Эпоха 9/10, Train Loss: 6.8890, Val Loss: 7.3471, ROUGE-1: 0.0476, ROUGE-2: 0.0000, ROUGE-L: 0.0476, LR: 0.000250\n"
     ]
    },
    {
     "name": "stderr",
     "output_type": "stream",
     "text": [
      "Эпохи обучения: 100%|██████████| 10/10 [04:42<00:00, 28.25s/эпоха, train_loss=6.8854, val_loss=7.3843, rouge1=0.0370, lr=0.000125]"
     ]
    },
    {
     "name": "stdout",
     "output_type": "stream",
     "text": [
      "ROUGE Scores: {'rouge1': np.float64(0.037037037037037035), 'rouge2': np.float64(0.0), 'rougeL': np.float64(0.037037037037037035), 'rougeLsum': np.float64(0.037037037037037035)}\n",
      "Эпоха 10/10, Train Loss: 6.8854, Val Loss: 7.3843, ROUGE-1: 0.0370, ROUGE-2: 0.0000, ROUGE-L: 0.0370, LR: 0.000125\n"
     ]
    },
    {
     "name": "stderr",
     "output_type": "stream",
     "text": [
      "\n"
     ]
    }
   ],
   "source": [
    "train_losses, val_losses, val_rouge_scores = train_model(\n",
    "        model, train_loader, val_loader, vocab_size, device,\n",
    "        num_epochs=10, learning_rate=0.001\n",
    "    )"
   ]
  },
  {
   "cell_type": "markdown",
   "id": "21309032",
   "metadata": {},
   "source": [
    "Визуализация результатов"
   ]
  },
  {
   "cell_type": "code",
   "execution_count": 12,
   "id": "a7582a9c",
   "metadata": {},
   "outputs": [
    {
     "data": {
      "image/png": "[encoded data removed]",
      "text/plain": [
       "<Figure size 1500x500 with 2 Axes>"
      ]
     },
     "metadata": {},
     "output_type": "display_data"
    },
    {
     "name": "stdout",
     "output_type": "stream",
     "text": [
      "\n",
      "Финальные метрики:\n",
      "Final Train Loss: 6.8854\n",
      "Final Val Loss: 7.3843\n",
      "Final ROUGE-1: 0.0370\n",
      "Final ROUGE-2: 0.0000\n",
      "Final ROUGE-L: 0.0370\n"
     ]
    }
   ],
   "source": [
    "plt.figure(figsize=(15,5))\n",
    "\n",
    "#Потери\n",
    "plt.subplot(1, 2, 1)\n",
    "plt.plot(train_losses, label='Train Loss')\n",
    "plt.plot(val_losses, label='Val Loss')\n",
    "plt.xlabel('Epoch')\n",
    "plt.ylabel('Loss')\n",
    "plt.title('Training and Validation Loss')\n",
    "plt.legend()\n",
    "plt.grid(True)\n",
    "\n",
    "#Rouge метрики\n",
    "plt.subplot(1, 2, 2)\n",
    "rouge1_scores = [score.get('rouge1', 0) for score in val_rouge_scores if score]\n",
    "rouge2_scores = [score.get('rouge2', 0) for score in val_rouge_scores if score]\n",
    "rougeL_scores = [score.get('rougeL', 0) for score in val_rouge_scores if score]\n",
    "\n",
    "epochs = range(1, len(rouge1_scores) + 1)\n",
    "plt.plot(epochs, rouge1_scores, label='ROUGE-1', marker='o')\n",
    "plt.plot(epochs, rouge2_scores, label='ROUGE-2', marker='s')\n",
    "plt.plot(epochs, rougeL_scores, label='ROUGE-L', marker='^')\n",
    "plt.xlabel('Epoch')\n",
    "plt.ylabel('ROUGE Score')\n",
    "plt.title('Validation ROUGE Scores')\n",
    "plt.legend()\n",
    "plt.grid(True)\n",
    "\n",
    "plt.tight_layout()\n",
    "plt.savefig('training_metrics.png')\n",
    "plt.show()\n",
    "\n",
    "print(\"\\nФинальные метрики:\")\n",
    "print(f\"Final Train Loss: {train_losses[-1]:.4f}\")\n",
    "print(f\"Final Val Loss: {val_losses[-1]:.4f}\")\n",
    "if val_rouge_scores and val_rouge_scores[-1]:\n",
    "    print(f\"Final ROUGE-1: {val_rouge_scores[-1]['rouge1']:.4f}\")\n",
    "    print(f\"Final ROUGE-2: {val_rouge_scores[-1]['rouge2']:.4f}\")\n",
    "    print(f\"Final ROUGE-L: {val_rouge_scores[-1]['rougeL']:.4f}\")"
   ]
  },
  {
   "cell_type": "markdown",
   "id": "1a027f11",
   "metadata": {},
   "source": [
    "Тестирование модели"
   ]
  },
  {
   "cell_type": "code",
   "execution_count": 13,
   "id": "0032d244",
   "metadata": {},
   "outputs": [
    {
     "name": "stdout",
     "output_type": "stream",
     "text": [
      "Значение потери на этапе тестирования: 7.4267\n"
     ]
    }
   ],
   "source": [
    "model.eval()\n",
    "test_loss = 0\n",
    "criterion = nn.CrossEntropyLoss(ignore_index=0)\n",
    "\n",
    "with torch.no_grad():\n",
    "    for batch in test_loader:\n",
    "        input_ids = batch['input_ids'].to(device)\n",
    "        targets = batch['target'].to(device)\n",
    "        \n",
    "        outputs, _ = model(input_ids)\n",
    "        loss = criterion(outputs, targets)\n",
    "        \n",
    "        test_loss += loss.item()\n",
    "\n",
    "avg_test_loss = test_loss / len(test_loader)\n",
    "print(f\"Значение потери на этапе тестирования: {avg_test_loss:.4f}\")"
   ]
  },
  {
   "cell_type": "markdown",
   "id": "e0a38719",
   "metadata": {},
   "source": [
    "Генерация связности"
   ]
  },
  {
   "cell_type": "code",
   "execution_count": 14,
   "id": "351e8d0c",
   "metadata": {},
   "outputs": [
    {
     "name": "stdout",
     "output_type": "stream",
     "text": [
      "\n",
      "ОЦЕНКА КАЧЕСТВА ГЕНЕРАЦИИ\n",
      "\n",
      "\n",
      "Начальный контекст: i feel so\n",
      "ГЕНЕРАЦИЯ ТЕКСТА:\n",
      "\n",
      "Тест 1:\n",
      "Контекст:    i feel so\n",
      "Ожидалось:   happy today because the sun is shining\n",
      "Сгенерировано: i i i i the to a i to i to to i my i to i the to to i a i to to i to to to i\n",
      "Схожесть:    0.14\n",
      "\n",
      "Начальный контекст: the movie was\n",
      "ГЕНЕРАЦИЯ ТЕКСТА:\n",
      "\n",
      "Тест 2:\n",
      "Контекст:    the movie was\n",
      "Ожидалось:   really amazing with great special effects\n",
      "Сгенерировано: the a the i the i to my a a i to the the i i i i i my the i the i to i to to to a\n",
      "Схожесть:    0.00\n",
      "\n",
      "Начальный контекст: machine learning is\n",
      "ГЕНЕРАЦИЯ ТЕКСТА:\n",
      "\n",
      "Тест 3:\n",
      "Контекст:    machine learning is\n",
      "Ожидалось:   a fascinating field that continues to evolve\n",
      "Сгенерировано: my i i to the the the to to to the i the a i to my a to to to the the a a i i a to a\n",
      "Схожесть:    0.29\n",
      "\n",
      "Начальный контекст: the cat is\n",
      "ГЕНЕРАЦИЯ ТЕКСТА:\n",
      "\n",
      "Тест 4:\n",
      "Контекст:    the cat is\n",
      "Ожидалось:   on the map\n",
      "Сгенерировано: to i i the the i i i i my my i a to to to i i the i to a my my to the the to a i\n",
      "Схожесть:    0.20\n"
     ]
    }
   ],
   "source": [
    "test_cases = [\n",
    "    ([\"i\", \"feel\", \"so\"], \"happy today because the sun is shining\"),\n",
    "    ([\"the\", \"movie\", \"was\"], \"really amazing with great special effects\"),\n",
    "    ([\"machine\", \"learning\", \"is\"], \"a fascinating field that continues to evolve\"),\n",
    "    ([\"the\", \"cat\", \"is\"], \"on the map\")\n",
    "]\n",
    "evaluate_text_generation(model, test_cases, vocab, device)"
   ]
  },
  {
   "cell_type": "markdown",
   "id": "641a6e57",
   "metadata": {},
   "source": [
    "Оценка с использованием distilgpt2"
   ]
  },
  {
   "cell_type": "code",
   "execution_count": 15,
   "id": "5844aab6",
   "metadata": {},
   "outputs": [
    {
     "name": "stdout",
     "output_type": "stream",
     "text": [
      "Загрузка модели DistilGPT2...\n"
     ]
    },
    {
     "name": "stderr",
     "output_type": "stream",
     "text": [
      "Device set to use cuda:0\n"
     ]
    },
    {
     "name": "stdout",
     "output_type": "stream",
     "text": [
      "Начинаем оценку модели...\n"
     ]
    },
    {
     "name": "stderr",
     "output_type": "stream",
     "text": [
      "Оценка текстов:   0%|          | 0/50 [00:00<?, ?it/s]Truncation was not explicitly activated but `max_length` is provided a specific value, please use `truncation=True` to explicitly truncate examples to max length. Defaulting to 'longest_first' truncation strategy. If you encode pairs of sequences (GLUE-style) with the tokenizer you can select this strategy more precisely by providing a specific strategy to `truncation`.\n",
      "Both `max_new_tokens` (=256) and `max_length`(=31) seem to have been set. `max_new_tokens` will take precedence. Please refer to the documentation for more information. (https://huggingface.co/docs/transformers/main/en/main_classes/text_generation)\n",
      "Оценка текстов:   2%|▏         | 1/50 [00:01<00:52,  1.06s/it]Both `max_new_tokens` (=256) and `max_length`(=32) seem to have been set. `max_new_tokens` will take precedence. Please refer to the documentation for more information. (https://huggingface.co/docs/transformers/main/en/main_classes/text_generation)\n",
      "Оценка текстов:   4%|▍         | 2/50 [00:01<00:45,  1.07it/s]Both `max_new_tokens` (=256) and `max_length`(=18) seem to have been set. `max_new_tokens` will take precedence. Please refer to the documentation for more information. (https://huggingface.co/docs/transformers/main/en/main_classes/text_generation)\n",
      "Оценка текстов:  24%|██▍       | 12/50 [00:02<00:06,  5.85it/s]Both `max_new_tokens` (=256) and `max_length`(=19) seem to have been set. `max_new_tokens` will take precedence. Please refer to the documentation for more information. (https://huggingface.co/docs/transformers/main/en/main_classes/text_generation)\n",
      "Оценка текстов:  26%|██▌       | 13/50 [00:03<00:09,  3.97it/s]Both `max_new_tokens` (=256) and `max_length`(=18) seem to have been set. `max_new_tokens` will take precedence. Please refer to the documentation for more information. (https://huggingface.co/docs/transformers/main/en/main_classes/text_generation)\n",
      "Оценка текстов:  40%|████      | 20/50 [00:04<00:05,  5.57it/s]Both `max_new_tokens` (=256) and `max_length`(=19) seem to have been set. `max_new_tokens` will take precedence. Please refer to the documentation for more information. (https://huggingface.co/docs/transformers/main/en/main_classes/text_generation)\n",
      "Оценка текстов:  42%|████▏     | 21/50 [00:04<00:05,  5.29it/s]Both `max_new_tokens` (=256) and `max_length`(=20) seem to have been set. `max_new_tokens` will take precedence. Please refer to the documentation for more information. (https://huggingface.co/docs/transformers/main/en/main_classes/text_generation)\n",
      "Both `max_new_tokens` (=256) and `max_length`(=21) seem to have been set. `max_new_tokens` will take precedence. Please refer to the documentation for more information. (https://huggingface.co/docs/transformers/main/en/main_classes/text_generation)\n",
      "Оценка текстов:  46%|████▌     | 23/50 [00:05<00:07,  3.71it/s]Both `max_new_tokens` (=256) and `max_length`(=22) seem to have been set. `max_new_tokens` will take precedence. Please refer to the documentation for more information. (https://huggingface.co/docs/transformers/main/en/main_classes/text_generation)\n",
      "Оценка текстов:  48%|████▊     | 24/50 [00:06<00:08,  2.92it/s]Both `max_new_tokens` (=256) and `max_length`(=23) seem to have been set. `max_new_tokens` will take precedence. Please refer to the documentation for more information. (https://huggingface.co/docs/transformers/main/en/main_classes/text_generation)\n",
      "You seem to be using the pipelines sequentially on GPU. In order to maximize efficiency please use a dataset\n",
      "Both `max_new_tokens` (=256) and `max_length`(=24) seem to have been set. `max_new_tokens` will take precedence. Please refer to the documentation for more information. (https://huggingface.co/docs/transformers/main/en/main_classes/text_generation)\n",
      "Оценка текстов:  52%|█████▏    | 26/50 [00:07<00:08,  2.70it/s]Both `max_new_tokens` (=256) and `max_length`(=25) seem to have been set. `max_new_tokens` will take precedence. Please refer to the documentation for more information. (https://huggingface.co/docs/transformers/main/en/main_classes/text_generation)\n",
      "Оценка текстов:  54%|█████▍    | 27/50 [00:08<00:10,  2.20it/s]Both `max_new_tokens` (=256) and `max_length`(=26) seem to have been set. `max_new_tokens` will take precedence. Please refer to the documentation for more information. (https://huggingface.co/docs/transformers/main/en/main_classes/text_generation)\n",
      "Оценка текстов:  56%|█████▌    | 28/50 [00:09<00:11,  1.90it/s]Both `max_new_tokens` (=256) and `max_length`(=27) seem to have been set. `max_new_tokens` will take precedence. Please refer to the documentation for more information. (https://huggingface.co/docs/transformers/main/en/main_classes/text_generation)\n",
      "Оценка текстов:  58%|█████▊    | 29/50 [00:10<00:12,  1.67it/s]Both `max_new_tokens` (=256) and `max_length`(=28) seem to have been set. `max_new_tokens` will take precedence. Please refer to the documentation for more information. (https://huggingface.co/docs/transformers/main/en/main_classes/text_generation)\n",
      "Оценка текстов:  60%|██████    | 30/50 [00:10<00:13,  1.54it/s]Both `max_new_tokens` (=256) and `max_length`(=29) seem to have been set. `max_new_tokens` will take precedence. Please refer to the documentation for more information. (https://huggingface.co/docs/transformers/main/en/main_classes/text_generation)\n",
      "Оценка текстов:  62%|██████▏   | 31/50 [00:11<00:12,  1.46it/s]Both `max_new_tokens` (=256) and `max_length`(=30) seem to have been set. `max_new_tokens` will take precedence. Please refer to the documentation for more information. (https://huggingface.co/docs/transformers/main/en/main_classes/text_generation)\n",
      "Оценка текстов:  64%|██████▍   | 32/50 [00:12<00:13,  1.36it/s]Both `max_new_tokens` (=256) and `max_length`(=18) seem to have been set. `max_new_tokens` will take precedence. Please refer to the documentation for more information. (https://huggingface.co/docs/transformers/main/en/main_classes/text_generation)\n",
      "Оценка текстов:  78%|███████▊  | 39/50 [00:13<00:03,  3.52it/s]Both `max_new_tokens` (=256) and `max_length`(=18) seem to have been set. `max_new_tokens` will take precedence. Please refer to the documentation for more information. (https://huggingface.co/docs/transformers/main/en/main_classes/text_generation)\n",
      "Both `max_new_tokens` (=256) and `max_length`(=19) seem to have been set. `max_new_tokens` will take precedence. Please refer to the documentation for more information. (https://huggingface.co/docs/transformers/main/en/main_classes/text_generation)\n",
      "Оценка текстов: 100%|██████████| 50/50 [00:13<00:00,  3.71it/s]\n"
     ]
    },
    {
     "name": "stdout",
     "output_type": "stream",
     "text": [
      "\n",
      "==================================================\n",
      "РЕЗУЛЬТАТЫ ОЦЕНКИ DistilGPT2\n",
      "==================================================\n",
      "ROUGE-1: 0.0255\n",
      "ROUGE-2: 0.0000\n",
      "ROUGE-L: 0.0165\n",
      "Оценено текстов: 20\n",
      "\n",
      "Примеры предсказаний:\n",
      "\n",
      "Пример 1:\n",
      "Контекст: ['lol', 'yea', 'i', 'really', 'hated', 'that', 'episode', 'last', 'night', 'and', 'i', 'hated', 'the', 'fake', 'obit']...\n",
      "Ожидалось: online even more im gonna miss\n",
      "Предсказано: uary.\n",
      "\n",
      "\n",
      "\n",
      "I've been in the car for the last week and i have been in the car for the last week and i have been in the car for the last week and i have been in the car for the last week and i have been in the car for the last week and i have been in the car for the last week and i have been in the car for the last week and i have been in the car for the last week and i have been in the car for the last week and i have been in the car for the last week and i have been in the car for the last week and i have been in the car for the last week and i have been in the car for the last week and i have been in the car for the last week and i have been in the car for the last week and i have been in the car for the last week and i have been in the car for the last week and i have been in the car for the last week and i have been in the car for the last week and i have been in the car for the last week and i have been in the car for the last week and i have been in the car for the last week and i have been in the car for the\n",
      "\n",
      "Пример 2:\n",
      "Контекст: ['lol', 'yea', 'i', 'really', 'hated', 'that', 'episode', 'last', 'night', 'and', 'i', 'hated', 'the', 'fake', 'obit', 'online']...\n",
      "Ожидалось: even more im gonna miss him\n",
      "Предсказано: and i was a little confused. i have to read this one to see if i would be a bit surprised. :D I have a lot of opinions on this show, so i think that they should get some real good stories. i am not a fan of the show, like i said. i am a fan of the show, like i said. i am a fan of the show, like i said. i am a fan of the show, like i said. i am a fan of the show, like i said. i am a fan of the show, like i said. i am a fan of the show, like i said. i am a fan of the show, like i said. i am a fan of the show, like i said. i am a fan of the show, like i said. i am a fan of the show, like i said. i am a fan of the show, like i said. i am a fan of the show, like i said. i am a fan of the show, like i said. i am a fan of the show, like i said. i am a fan of the show, like i said. i am a fan of the show, like i said. i am a fan\n",
      "\n",
      "Пример 3:\n",
      "Контекст: ['so']...\n",
      "Ожидалось: taken advantage\n",
      "Предсказано: not feeling appreciated. The feeling is that the man is a master and that he and the woman are the true masters of the woman. In my opinion, the same is true.\n",
      "\n",
      "So I think the most important part of this is that we have a man who is the master of the woman. That is what makes me feel at home. I do not feel comfortable with the man, and I am not afraid to do that. I am not afraid to look in the mirror and see the man, and I am not afraid to look in the mirror.\n",
      "I am a master. Even though I am not afraid to look in the mirror, I am not afraid to look in the mirror. I am not afraid to look in the mirror. I am not afraid to look in the mirror. I am not afraid to look in the mirror. I am not afraid to look in the mirror.\n",
      "The main difference between a woman and an man is that he is the master of the woman. That is when he is the master of the woman. That is when he is the master of the woman. That is when he is the master of the woman. That is when he is the master of the woman. That is when he is the master of the woman.\n",
      "\n",
      "Сравнение моделей:\n",
      "LSTM ROUGE-1: 0.0370\n",
      "DistilGPT2 ROUGE-1: 0.0255\n"
     ]
    }
   ],
   "source": [
    "val_texts = []\n",
    "for i, (x_seq, y_token) in enumerate(zip(X_val, y_val)):\n",
    "    if i < 100:  # Ограничение количества для скорости\n",
    "        text = ' '.join(x_seq) + ' ' + y_token\n",
    "        val_texts.append(text)\n",
    "\n",
    "gpt2_results = evaluate_distilgpt2_rouge(val_texts[:50])\n",
    "print(\"\\nСравнение моделей:\")\n",
    "print(f\"LSTM ROUGE-1: {val_rouge_scores[-1]['rouge1']:.4f}\")\n",
    "print(f\"DistilGPT2 ROUGE-1: {gpt2_results['rouge1']:.4f}\")\n"
   ]
  },
  {
   "cell_type": "markdown",
   "id": "229dc8e8",
   "metadata": {},
   "source": [
    "Сохранение модели"
   ]
  },
  {
   "cell_type": "code",
   "execution_count": 16,
   "id": "6c1063ef",
   "metadata": {},
   "outputs": [
    {
     "name": "stdout",
     "output_type": "stream",
     "text": [
      "Модель сохранена в: models/lstm_language_model.pth\n"
     ]
    }
   ],
   "source": [
    "save_path = \"models/lstm_language_model.pth\"\n",
    "os.makedirs(os.path.dirname(save_path), exist_ok=True)\n",
    "torch.save({\n",
    "        'model_state_dict': model.state_dict(),\n",
    "        'vocab': vocab,\n",
    "        'model_config': {\n",
    "            'vocab_size': vocab_size,\n",
    "            'embedding_dim': 256,\n",
    "            'hidden_dim': 512,\n",
    "            'num_layers': 2,\n",
    "            'dropout': 0.3\n",
    "        }\n",
    "    }, save_path)\n",
    "print(f\"Модель сохранена в: {save_path}\")"
   ]
  },
  {
   "cell_type": "markdown",
   "id": "4e3afca8",
   "metadata": {},
   "source": [
    "# Вывод\n",
    "\n",
    "Исходя из наблюдающегося чрезмерно большого времени на обучение нейросети было принято решение урезать с 1,6М записей до 10К записей в исходном .csv файле, подаваемого на вход. Даже при таком кардинальном уменьшении обучающей выборки результат на основе LSTM превосходит DistilGPT2:\n",
    "\n",
    "LSTM ROUGE-1: <b>0.0370</b><br>\n",
    "DistilGPT2 ROUGE-1: <b>0.0023</b>\n"
   ]
  }
 ],
 "metadata": {
  "kernelspec": {
   "display_name": ".venv",
   "language": "python",
   "name": "python3"
  },
  "language_info": {
   "codemirror_mode": {
    "name": "ipython",
    "version": 3
   },
   "file_extension": ".py",
   "mimetype": "text/x-python",
   "name": "python",
   "nbconvert_exporter": "python",
   "pygments_lexer": "ipython3",
   "version": "3.11.4"
  }
 },
 "nbformat": 4,
 "nbformat_minor": 5
}
